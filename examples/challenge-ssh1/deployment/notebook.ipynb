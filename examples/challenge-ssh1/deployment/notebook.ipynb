{
 "cells": [
  {
   "cell_type": "markdown",
   "metadata": {},
   "source": [
    "### Initial imports and configurations"
   ]
  },
  {
   "cell_type": "code",
   "execution_count": 6,
   "metadata": {},
   "outputs": [],
   "source": [
    "import shutil\n",
    "import requests\n",
    "\n",
    "s = requests.session()\n",
    "\n",
    "keycloak_host=\"https://ctf.jacopomauro.com\" \n",
    "deployer_host=\"https://deployer.ctf.jacopomauro.com\"\n",
    "username=\"kilar0276\"\n",
    "password=\"Test1234\""
   ]
  },
  {
   "cell_type": "markdown",
   "metadata": {},
   "source": [
    "### Get access token\n",
    "Access token is valid for 5 minutes"
   ]
  },
  {
   "cell_type": "code",
   "execution_count": null,
   "metadata": {},
   "outputs": [],
   "source": [
    "r = s.post(f\"{keycloak_host}/keycloak/realms/ctf/protocol/openid-connect/token/\", data={\"client_id\":\"deployer\", \"username\": username, \"password\": password, \"grant_type\": \"password\", \"scope\": \"openid\"}, timeout=20)\n",
    "print(\"login:\", r.status_code, r.content)\n",
    "r.raise_for_status()\n",
    "s.headers = {\"Authorization\": \"Bearer \" + r.json().get(\"access_token\")}"
   ]
  },
  {
   "cell_type": "markdown",
   "metadata": {},
   "source": [
    "### Post challenge to deployer service"
   ]
  },
  {
   "cell_type": "code",
   "execution_count": null,
   "metadata": {},
   "outputs": [],
   "source": [
    "shutil.make_archive(\"challenge\", \"zip\", \"../src/\")\n",
    "r = s.post(deployer_host + \"/challenges\", files=[\n",
    "    (\"upload[]\", open(\"challenge.zip\", \"rb\")),\n",
    "    (\"upload[]\", open(\"../challenge.yml\", \"rb\"))], timeout=20)\n",
    "print(\"add challenge:\", r.status_code, r.content)\n",
    "r.raise_for_status()\n",
    "challenge_id = r.json().get(\"challengeid\")"
   ]
  },
  {
   "cell_type": "markdown",
   "metadata": {},
   "source": [
    "### Submit challenge to CTFd"
   ]
  },
  {
   "cell_type": "code",
   "execution_count": null,
   "metadata": {},
   "outputs": [],
   "source": [
    "r = s.post(deployer_host + \"/challenges/\" + challenge_id + \"/publish\", timeout=20)\n",
    "print(\"publish:\", r.status_code, r.content)"
   ]
  },
  {
   "cell_type": "markdown",
   "metadata": {},
   "source": [
    "### Start the challenge using the API"
   ]
  },
  {
   "cell_type": "code",
   "execution_count": null,
   "metadata": {},
   "outputs": [],
   "source": [
    "r = s.post(deployer_host + \"/challenges/\" + challenge_id + \"/start\", timeout=20)\n",
    "print(\"start challenge:\", r.status_code, r.content)\n",
    "r.raise_for_status()"
   ]
  },
  {
   "cell_type": "markdown",
   "metadata": {},
   "source": [
    "### Stop the challenge using the API"
   ]
  },
  {
   "cell_type": "code",
   "execution_count": null,
   "metadata": {},
   "outputs": [],
   "source": [
    "r = s.post(deployer_host + \"/challenges/\" + challenge_id + \"/stop\", timeout=20)\n",
    "print(\"stop challenge:\", r.status_code, r.content)\n",
    "r.raise_for_status()"
   ]
  },
  {
   "cell_type": "markdown",
   "metadata": {},
   "source": [
    "### SSH command\n",
    "```bash\n",
    "ssh test@ssh.<subdomain> -p 8022 -J bastion@ctf.jacopomauro.com:443 -L 8080:web1.ctf:80\n",
    "```"
   ]
  }
 ],
 "metadata": {
  "kernelspec": {
   "display_name": "Python 3",
   "language": "python",
   "name": "python3"
  },
  "language_info": {
   "codemirror_mode": {
    "name": "ipython",
    "version": 3
   },
   "file_extension": ".py",
   "mimetype": "text/x-python",
   "name": "python",
   "nbconvert_exporter": "python",
   "pygments_lexer": "ipython3",
   "version": "3.10.12"
  }
 },
 "nbformat": 4,
 "nbformat_minor": 2
}
