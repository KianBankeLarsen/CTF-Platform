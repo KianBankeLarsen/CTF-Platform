{
 "cells": [
  {
   "cell_type": "markdown",
   "metadata": {},
   "source": [
    "### Initial imports and configurations"
   ]
  },
  {
   "cell_type": "code",
   "execution_count": null,
   "metadata": {},
   "outputs": [],
   "source": [
    "import shutil\n",
    "import requests\n",
    "import urllib3\n",
    "\n",
    "s = requests.session()\n",
    "s.verify=False\n",
    "urllib3.disable_warnings(urllib3.exceptions.InsecureRequestWarning)\n",
    "\n",
    "keycloak_host=\"https://myhost\" \n",
    "deployer_host=\"https://deployer.local.lan\"\n",
    "username=\"kilar0276\"\n",
    "password=\"Test1234\""
   ]
  },
  {
   "cell_type": "markdown",
   "metadata": {},
   "source": [
    "### Get access token\n",
    "Access token is valid for 5 minutes"
   ]
  },
  {
   "cell_type": "code",
   "execution_count": null,
   "metadata": {},
   "outputs": [],
   "source": [
    "r = s.post(f\"{keycloak_host}/keycloak/realms/ctf/protocol/openid-connect/token/\", data={\"client_id\":\"deployer\", \"username\": username, \"password\": password, \"grant_type\": \"password\", \"scope\": \"openid\"}, timeout=20)\n",
    "print(\"login:\", r.status_code, r.content)\n",
    "r.raise_for_status()\n",
    "s.headers = {\"Authorization\": \"Bearer \" + r.json().get(\"access_token\")}"
   ]
  },
  {
   "cell_type": "markdown",
   "metadata": {},
   "source": [
    "### Post challenge to deployer service"
   ]
  },
  {
   "cell_type": "code",
   "execution_count": null,
   "metadata": {},
   "outputs": [],
   "source": [
    "shutil.make_archive(\"challenge\", \"zip\", \"../challenge/src/\")\n",
    "shutil.make_archive(\"solution\", \"zip\", \"../challenge/solution/\")\n",
    "r = s.post(deployer_host + \"/challenges\", files=[\n",
    "    (\"upload[]\", open(\"challenge.zip\", \"rb\")),\n",
    "    (\"upload[]\", open(\"../challenge/challenge.yml\", \"rb\")),\n",
    "     (\"upload[]\", open(\"solution.zip\", \"rb\"))], timeout=20)\n",
    "print(\"add challenge:\", r.status_code, r.content)\n",
    "r.raise_for_status()\n",
    "challenge_id = r.json().get(\"challengeid\")"
   ]
  },
  {
   "cell_type": "markdown",
   "metadata": {},
   "source": [
    "### Submit challenge to CTFd"
   ]
  },
  {
   "cell_type": "code",
   "execution_count": null,
   "metadata": {},
   "outputs": [],
   "source": [
    "r = s.post(deployer_host + \"/challenges/\" + challenge_id + \"/publish\", timeout=20)\n",
    "print(\"publish:\", r.status_code, r.content)"
   ]
  },
  {
   "cell_type": "markdown",
   "metadata": {},
   "source": [
    "### Start the challenge using the API"
   ]
  },
  {
   "cell_type": "code",
   "execution_count": null,
   "metadata": {},
   "outputs": [],
   "source": [
    "r = s.post(deployer_host + \"/challenges/\" + challenge_id + \"/start\", timeout=20)\n",
    "print(\"start challenge:\", r.status_code, r.content)\n",
    "r.raise_for_status()"
   ]
  },
  {
   "cell_type": "markdown",
   "metadata": {},
   "source": [
    "### Start test using the API"
   ]
  },
  {
   "cell_type": "code",
   "execution_count": null,
   "metadata": {},
   "outputs": [],
   "source": [
    "r = s.post(deployer_host + f\"/solutions/{challenge_id}/start\", timeout=20)\n",
    "print(\"start test:\", r.status_code, r.content)\n",
    "r.raise_for_status()"
   ]
  },
  {
   "cell_type": "markdown",
   "metadata": {},
   "source": [
    "### Verify the submitted challenge"
   ]
  },
  {
   "cell_type": "code",
   "execution_count": null,
   "metadata": {},
   "outputs": [],
   "source": [
    "data = {\n",
    "    \"flag\": \"flag{ssh-example}\"\n",
    "}\n",
    "\n",
    "r = s.post(deployer_host + f\"/challenges/{challenge_id}/verify\", timeout=20, json=data)\n",
    "print(\"Test flag:\", r.status_code, r.content)\n",
    "r.raise_for_status()"
   ]
  },
  {
   "cell_type": "markdown",
   "metadata": {},
   "source": [
    "### Stop the challenge using the API"
   ]
  },
  {
   "cell_type": "code",
   "execution_count": null,
   "metadata": {},
   "outputs": [],
   "source": [
    "r = s.post(deployer_host + \"/challenges/\" + challenge_id + \"/stop\", timeout=20)\n",
    "print(\"stop challenge:\", r.status_code, r.content)\n",
    "r.raise_for_status()"
   ]
  },
  {
   "cell_type": "markdown",
   "metadata": {},
   "source": [
    "### Stop the test using the API"
   ]
  },
  {
   "cell_type": "code",
   "execution_count": null,
   "metadata": {},
   "outputs": [],
   "source": [
    "r = s.post(deployer_host + \"/solutions/\" + challenge_id + \"/stop\", timeout=20)\n",
    "print(\"stop test:\", r.status_code, r.content)\n",
    "r.raise_for_status()"
   ]
  },
  {
   "cell_type": "markdown",
   "metadata": {},
   "source": [
    "### Get Logs"
   ]
  },
  {
   "cell_type": "code",
   "execution_count": null,
   "metadata": {},
   "outputs": [],
   "source": [
    "r = s.get(deployer_host + \"/challenges/\" + challenge_id + \"/logs\", timeout=20)\n",
    "print(\"logs:\", r.status_code, r.content)\n",
    "r.raise_for_status()"
   ]
  },
  {
   "cell_type": "markdown",
   "metadata": {},
   "source": [
    "### SSH command\n",
    "```bash\n",
    "ssh test@ssh.<subdomain> -p 8022 -J bastion@ctf.jacopomauro.com:443 -L 8080:web1.ctf:80\n",
    "```"
   ]
  }
 ],
 "metadata": {
  "kernelspec": {
   "display_name": "Python 3",
   "language": "python",
   "name": "python3"
  },
  "language_info": {
   "codemirror_mode": {
    "name": "ipython",
    "version": 3
   },
   "file_extension": ".py",
   "mimetype": "text/x-python",
   "name": "python",
   "nbconvert_exporter": "python",
   "pygments_lexer": "ipython3",
   "version": "3.10.12"
  }
 },
 "nbformat": 4,
 "nbformat_minor": 2
}
